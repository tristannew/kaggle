{
  "cells": [
    {
      "cell_type": "markdown",
      "metadata": {
        "id": "7_wxJhwW1i7s"
      },
      "source": [
        "Trying to predict the probability of `Response`"
      ]
    },
    {
      "cell_type": "markdown",
      "metadata": {},
      "source": [
        "Trying to predict the probability of `Response`"
      ]
    },
    {
      "cell_type": "code",
      "execution_count": 1,
      "metadata": {
        "colab": {
          "base_uri": "https://localhost:8080/"
        },
        "id": "rt8qcxta1lxZ",
        "outputId": "4cd6ef2a-de7f-4a5f-846f-484d2a109018"
      },
      "outputs": [
        {
          "name": "stdout",
          "output_type": "stream",
          "text": [
            "playground-series-s4e7.zip: Skipping, found more recently modified local copy (use --force to force download)\n",
            "Archive:  /content/playground-series-s4e7.zip\n",
            "replace /content/playground-series-s4e7_data/sample_submission.csv? [y]es, [n]o, [A]ll, [N]one, [r]ename: y\n",
            "  inflating: /content/playground-series-s4e7_data/sample_submission.csv  \n",
            "replace /content/playground-series-s4e7_data/test.csv? [y]es, [n]o, [A]ll, [N]one, [r]ename: y\n",
            "  inflating: /content/playground-series-s4e7_data/test.csv  y\n",
            "\n",
            "replace /content/playground-series-s4e7_data/train.csv? [y]es, [n]o, [A]ll, [N]one, [r]ename:   inflating: /content/playground-series-s4e7_data/train.csv  y\n",
            "\n"
          ]
        }
      ],
      "source": [
        "# from google.colab import userdata\n",
        "# import os\n",
        "\n",
        "# os.environ[\"KAGGLE_USERNAME\"] = userdata.get('KAGGLE_USERNAME')\n",
        "# os.environ[\"KAGGLE_KEY\"] = userdata.get('KAGGLE_KEY')\n",
        "\n",
        "# import kaggle\n",
        "# from kaggle.api.kaggle_api_extended import KaggleApi\n",
        "\n",
        "# api = KaggleApi()\n",
        "# api.authenticate()\n",
        "# !kaggle competitions download -c playground-series-s4e7\n",
        "# !unzip /content/playground-series-s4e7.zip -d /content/playground-series-s4e7_data/\n",
        "## api.competitions_data_download_files('playground-series-s4e7')\n",
        "## api.dataset_download_files(, path='playground-series-s4e7', unzip=True)"
      ]
    },
    {
      "cell_type": "markdown",
      "metadata": {
        "id": "dOrsBEoG1i7v"
      },
      "source": [
        "##### Dependencies"
      ]
    },
    {
      "cell_type": "code",
      "execution_count": 18,
      "metadata": {
        "id": "Tkbt_mXf1i7w"
      },
      "outputs": [],
      "source": [
        "import pandas as pd\n",
        "import seaborn as sns\n",
        "from sklearn.model_selection import train_test_split"
      ]
    },
    {
      "cell_type": "markdown",
      "metadata": {
        "id": "pYD_bB3c1i7x"
      },
      "source": [
        "##### Import Data"
      ]
    },
    {
      "cell_type": "code",
      "execution_count": 19,
      "metadata": {
        "id": "VkzM7-8V1i7y"
      },
      "outputs": [],
      "source": [
        "train = pd.read_csv('/content/playground-series-s4e7_data/train.csv', index_col=\"id\")"
      ]
    },
    {
      "cell_type": "markdown",
      "metadata": {
        "id": "vNPP40mo1i7y"
      },
      "source": [
        "##### Dtypes"
      ]
    },
    {
      "cell_type": "code",
      "execution_count": 20,
      "metadata": {
        "id": "KJ7_FjzPic2h"
      },
      "outputs": [],
      "source": [
        "def clean_data(df: pd.DataFrame) -> pd.DataFrame:\n",
        "  df.Region_Code = df.Region_Code.astype(\"int8\")\n",
        "  df.Previously_Insured = df.Previously_Insured.astype(\"int8\")\n",
        "  df.Driving_License = df.Driving_License.astype(\"int8\")\n",
        "  df.Gender = df.Gender.map({\"Male\": 1, \"Female\": 0})\n",
        "  df.Vehicle_Damage = df.Vehicle_Damage.map({\"Yes\": 1, \"No\": 0})\n",
        "  vehicle_age = pd.get_dummies(df.Vehicle_Age, drop_first=True)\n",
        "  df[[\"< 1 Year\", \"> 2 Years\"]] = vehicle_age\n",
        "  df.drop(columns=\"Vehicle_Age\", inplace=True)\n",
        "  region_dummies = pd.get_dummies(df.Region_Code, drop_first=True)\n",
        "  regions = pd.get_dummies(df.Region_Code, drop_first=True)\n",
        "  # df.drop(columns=\"Region_Code\", inplace=True)\n",
        "  # df = pd.concat([df, regions], axis=1)\n",
        "  return df\n"
      ]
    },
    {
      "cell_type": "code",
      "execution_count": 21,
      "metadata": {
        "id": "_wkGSm-jjCJ0"
      },
      "outputs": [],
      "source": [
        "train = clean_data(train)"
      ]
    },
    {
      "cell_type": "markdown",
      "metadata": {
        "id": "d4n4Mt5v1i70"
      },
      "source": [
        "##### Cleaning"
      ]
    },
    {
      "cell_type": "code",
      "execution_count": null,
      "metadata": {
        "colab": {
          "base_uri": "https://localhost:8080/"
        },
        "id": "opoBgjvT1i71",
        "outputId": "ecc6e950-beb7-4567-8403-e1a93c547bcd"
      },
      "outputs": [
        {
          "data": {
            "text/plain": [
              "0"
            ]
          },
          "execution_count": 7,
          "metadata": {},
          "output_type": "execute_result"
        }
      ],
      "source": [
        "train[train.isna().any(axis=1)].__len__()"
      ]
    },
    {
      "cell_type": "code",
      "execution_count": null,
      "metadata": {
        "colab": {
          "base_uri": "https://localhost:8080/"
        },
        "id": "ed-ctW111i72",
        "outputId": "01ad2524-c74d-411e-9f6f-75b3d256de26"
      },
      "outputs": [
        {
          "data": {
            "text/plain": [
              "0"
            ]
          },
          "execution_count": 8,
          "metadata": {},
          "output_type": "execute_result"
        }
      ],
      "source": [
        "train.duplicated().sum()"
      ]
    },
    {
      "cell_type": "code",
      "execution_count": 6,
      "metadata": {
        "id": "OGk8zcdR1i73"
      },
      "outputs": [],
      "source": [
        "train, test = train_test_split(train, test_size=0.2, random_state=42)"
      ]
    },
    {
      "cell_type": "markdown",
      "metadata": {
        "id": "7kTfAf7y1i74"
      },
      "source": [
        "##### EDA"
      ]
    },
    {
      "cell_type": "code",
      "execution_count": null,
      "metadata": {
        "colab": {
          "base_uri": "https://localhost:8080/",
          "height": 466
        },
        "id": "n70t8qaw1i74",
        "outputId": "72dcb0cb-1f79-4ae3-cc3c-e03da5c13259"
      },
      "outputs": [
        {
          "data": {
            "text/plain": [
              "<Axes: xlabel='Age'>"
            ]
          },
          "execution_count": 10,
          "metadata": {},
          "output_type": "execute_result"
        },
        {
          "data": {
            "image/png": "[encoded data removed]",
            "text/plain": [
              "<Figure size 640x480 with 1 Axes>"
            ]
          },
          "metadata": {},
          "output_type": "display_data"
        }
      ],
      "source": [
        "# Age and Response\n",
        "\n",
        "sns.boxplot(data=train, x=\"Age\", hue=\"Response\")"
      ]
    },
    {
      "cell_type": "code",
      "execution_count": null,
      "metadata": {
        "colab": {
          "base_uri": "https://localhost:8080/",
          "height": 467
        },
        "id": "W5QgILOw1i74",
        "outputId": "70f81e07-f2da-4b68-de06-579ca345a387"
      },
      "outputs": [
        {
          "data": {
            "text/plain": [
              "<Axes: xlabel='Annual_Premium'>"
            ]
          },
          "execution_count": 11,
          "metadata": {},
          "output_type": "execute_result"
        },
        {
          "data": {
            "image/png": "[encoded data removed]",
            "text/plain": [
              "<Figure size 640x480 with 1 Axes>"
            ]
          },
          "metadata": {},
          "output_type": "display_data"
        }
      ],
      "source": [
        "# Response and Annual_Premium\n",
        "\n",
        "sns.boxplot(data=train, x=\"Annual_Premium\", hue=\"Response\")"
      ]
    },
    {
      "cell_type": "code",
      "execution_count": null,
      "metadata": {
        "colab": {
          "base_uri": "https://localhost:8080/",
          "height": 467
        },
        "id": "y_K6Algx1i75",
        "outputId": "cd708b9c-f278-42df-dd13-4a8451aff04c"
      },
      "outputs": [
        {
          "data": {
            "text/plain": [
              "<Axes: xlabel='Policy_Sales_Channel'>"
            ]
          },
          "execution_count": 12,
          "metadata": {},
          "output_type": "execute_result"
        },
        {
          "data": {
            "image/png": "[encoded data removed]",
            "text/plain": [
              "<Figure size 640x480 with 1 Axes>"
            ]
          },
          "metadata": {},
          "output_type": "display_data"
        }
      ],
      "source": [
        "# Resposne and Policy_Sales_Channel\n",
        "\n",
        "sns.boxplot(data=train, x=\"Policy_Sales_Channel\", hue=\"Response\")"
      ]
    },
    {
      "cell_type": "code",
      "execution_count": null,
      "metadata": {
        "id": "bPmeeRib1i76"
      },
      "outputs": [],
      "source": [
        "# Response and Vintage\n",
        "\n",
        "sns.boxplot(data=train, x=\"Vintage\", hue=\"Response\")"
      ]
    },
    {
      "cell_type": "code",
      "execution_count": null,
      "metadata": {
        "id": "OyX_30cJ1i76"
      },
      "outputs": [],
      "source": [
        "# don't include vintage or annual premium, it isn't useful\n",
        "# previouslt insured and vehicle damage negatively correlated (-0.8) keep only vehicle damage\n",
        "# transform features for standardisation\n",
        "# build two models\n",
        "# select features using wrapper methods"
      ]
    },
    {
      "cell_type": "code",
      "execution_count": null,
      "metadata": {
        "id": "pbMDENoZ1i76"
      },
      "outputs": [],
      "source": [
        "train.corr().style.background_gradient(cmap='magma')"
      ]
    },
    {
      "cell_type": "code",
      "execution_count": null,
      "metadata": {
        "id": "GDvBF6He1i77"
      },
      "outputs": [],
      "source": [
        "train[[\"Vehicle_Age\", \"Response\"]].groupby(\"Vehicle_Age\").value_counts(normalize=True)"
      ]
    },
    {
      "cell_type": "markdown",
      "metadata": {
        "id": "dRz4Nadw1i77"
      },
      "source": [
        "##### Model Building"
      ]
    },
    {
      "cell_type": "code",
      "execution_count": 22,
      "metadata": {
        "id": "dd_4oRbP1i77"
      },
      "outputs": [],
      "source": [
        "from sklearn.linear_model import LogisticRegression\n",
        "from sklearn.tree import DecisionTreeClassifier\n",
        "from sklearn.metrics import accuracy_score, confusion_matrix, roc_auc_score\n",
        "from sklearn.preprocessing import StandardScaler\n",
        "# SVM?\n",
        "# Random Forest?\n",
        "# XGBoost?"
      ]
    },
    {
      "cell_type": "code",
      "execution_count": 23,
      "metadata": {
        "id": "Pax4LgTW1i77"
      },
      "outputs": [],
      "source": [
        "# Standardise Features\n",
        "# Region_Code to be dummified, Annual_premium, Policy_sales_Channel, Vintage\n",
        "premium_scaler = StandardScaler()\n",
        "scaled_premium = premium_scaler.fit_transform(train.Annual_Premium.values.reshape(-1, 1))\n",
        "train.Annual_Premium = scaled_premium"
      ]
    },
    {
      "cell_type": "code",
      "execution_count": 24,
      "metadata": {
        "id": "lWuCV9qa1i77"
      },
      "outputs": [],
      "source": [
        "logreg = LogisticRegression()"
      ]
    },
    {
      "cell_type": "code",
      "execution_count": 25,
      "metadata": {
        "id": "qp28kMQC1i78"
      },
      "outputs": [],
      "source": [
        "independent_vars = [col for col in train.columns if col not in [\"Previously_Insured\", \"Annual_Premium\", \"Vintage\", \"Region_Code\", \"Response\"]]\n",
        "features = train[independent_vars]\n",
        "response = train.Response\n",
        "features.columns = features.columns.astype(str)"
      ]
    },
    {
      "cell_type": "code",
      "execution_count": 26,
      "metadata": {
        "colab": {
          "base_uri": "https://localhost:8080/",
          "height": 233
        },
        "id": "pk21g6Sv1i78",
        "outputId": "4235e917-6d02-4a62-dcf0-c7677c9abb1b"
      },
      "outputs": [
        {
          "name": "stderr",
          "output_type": "stream",
          "text": [
            "/usr/local/lib/python3.10/dist-packages/sklearn/linear_model/_logistic.py:458: ConvergenceWarning: lbfgs failed to converge (status=1):\n",
            "STOP: TOTAL NO. of ITERATIONS REACHED LIMIT.\n",
            "\n",
            "Increase the number of iterations (max_iter) or scale the data as shown in:\n",
            "    https://scikit-learn.org/stable/modules/preprocessing.html\n",
            "Please also refer to the documentation for alternative solver options:\n",
            "    https://scikit-learn.org/stable/modules/linear_model.html#logistic-regression\n",
            "  n_iter_i = _check_optimize_result(\n"
          ]
        },
        {
          "data": {
            "text/html": [
              "<style>#sk-container-id-2 {color: black;background-color: white;}#sk-container-id-2 pre{padding: 0;}#sk-container-id-2 div.sk-toggleable {background-color: white;}#sk-container-id-2 label.sk-toggleable__label {cursor: pointer;display: block;width: 100%;margin-bottom: 0;padding: 0.3em;box-sizing: border-box;text-align: center;}#sk-container-id-2 label.sk-toggleable__label-arrow:before {content: \"▸\";float: left;margin-right: 0.25em;color: #696969;}#sk-container-id-2 label.sk-toggleable__label-arrow:hover:before {color: black;}#sk-container-id-2 div.sk-estimator:hover label.sk-toggleable__label-arrow:before {color: black;}#sk-container-id-2 div.sk-toggleable__content {max-height: 0;max-width: 0;overflow: hidden;text-align: left;background-color: #f0f8ff;}#sk-container-id-2 div.sk-toggleable__content pre {margin: 0.2em;color: black;border-radius: 0.25em;background-color: #f0f8ff;}#sk-container-id-2 input.sk-toggleable__control:checked~div.sk-toggleable__content {max-height: 200px;max-width: 100%;overflow: auto;}#sk-container-id-2 input.sk-toggleable__control:checked~label.sk-toggleable__label-arrow:before {content: \"▾\";}#sk-container-id-2 div.sk-estimator input.sk-toggleable__control:checked~label.sk-toggleable__label {background-color: #d4ebff;}#sk-container-id-2 div.sk-label input.sk-toggleable__control:checked~label.sk-toggleable__label {background-color: #d4ebff;}#sk-container-id-2 input.sk-hidden--visually {border: 0;clip: rect(1px 1px 1px 1px);clip: rect(1px, 1px, 1px, 1px);height: 1px;margin: -1px;overflow: hidden;padding: 0;position: absolute;width: 1px;}#sk-container-id-2 div.sk-estimator {font-family: monospace;background-color: #f0f8ff;border: 1px dotted black;border-radius: 0.25em;box-sizing: border-box;margin-bottom: 0.5em;}#sk-container-id-2 div.sk-estimator:hover {background-color: #d4ebff;}#sk-container-id-2 div.sk-parallel-item::after {content: \"\";width: 100%;border-bottom: 1px solid gray;flex-grow: 1;}#sk-container-id-2 div.sk-label:hover label.sk-toggleable__label {background-color: #d4ebff;}#sk-container-id-2 div.sk-serial::before {content: \"\";position: absolute;border-left: 1px solid gray;box-sizing: border-box;top: 0;bottom: 0;left: 50%;z-index: 0;}#sk-container-id-2 div.sk-serial {display: flex;flex-direction: column;align-items: center;background-color: white;padding-right: 0.2em;padding-left: 0.2em;position: relative;}#sk-container-id-2 div.sk-item {position: relative;z-index: 1;}#sk-container-id-2 div.sk-parallel {display: flex;align-items: stretch;justify-content: center;background-color: white;position: relative;}#sk-container-id-2 div.sk-item::before, #sk-container-id-2 div.sk-parallel-item::before {content: \"\";position: absolute;border-left: 1px solid gray;box-sizing: border-box;top: 0;bottom: 0;left: 50%;z-index: -1;}#sk-container-id-2 div.sk-parallel-item {display: flex;flex-direction: column;z-index: 1;position: relative;background-color: white;}#sk-container-id-2 div.sk-parallel-item:first-child::after {align-self: flex-end;width: 50%;}#sk-container-id-2 div.sk-parallel-item:last-child::after {align-self: flex-start;width: 50%;}#sk-container-id-2 div.sk-parallel-item:only-child::after {width: 0;}#sk-container-id-2 div.sk-dashed-wrapped {border: 1px dashed gray;margin: 0 0.4em 0.5em 0.4em;box-sizing: border-box;padding-bottom: 0.4em;background-color: white;}#sk-container-id-2 div.sk-label label {font-family: monospace;font-weight: bold;display: inline-block;line-height: 1.2em;}#sk-container-id-2 div.sk-label-container {text-align: center;}#sk-container-id-2 div.sk-container {/* jupyter's `normalize.less` sets `[hidden] { display: none; }` but bootstrap.min.css set `[hidden] { display: none !important; }` so we also need the `!important` here to be able to override the default hidden behavior on the sphinx rendered scikit-learn.org. See: https://github.com/scikit-learn/scikit-learn/issues/21755 */display: inline-block !important;position: relative;}#sk-container-id-2 div.sk-text-repr-fallback {display: none;}</style><div id=\"sk-container-id-2\" class=\"sk-top-container\"><div class=\"sk-text-repr-fallback\"><pre>LogisticRegression()</pre><b>In a Jupyter environment, please rerun this cell to show the HTML representation or trust the notebook. <br />On GitHub, the HTML representation is unable to render, please try loading this page with nbviewer.org.</b></div><div class=\"sk-container\" hidden><div class=\"sk-item\"><div class=\"sk-estimator sk-toggleable\"><input class=\"sk-toggleable__control sk-hidden--visually\" id=\"sk-estimator-id-2\" type=\"checkbox\" checked><label for=\"sk-estimator-id-2\" class=\"sk-toggleable__label sk-toggleable__label-arrow\">LogisticRegression</label><div class=\"sk-toggleable__content\"><pre>LogisticRegression()</pre></div></div></div></div></div>"
            ],
            "text/plain": [
              "LogisticRegression()"
            ]
          },
          "execution_count": 26,
          "metadata": {},
          "output_type": "execute_result"
        }
      ],
      "source": [
        "logreg.fit(features, response)"
      ]
    },
    {
      "cell_type": "code",
      "execution_count": 27,
      "metadata": {
        "id": "jiKJhGVAzVc7"
      },
      "outputs": [],
      "source": [
        "scaled_premium = premium_scaler.transform(test.Annual_Premium.values.reshape(-1,1))\n",
        "test.Annual_Premium = scaled_premium"
      ]
    },
    {
      "cell_type": "code",
      "execution_count": 28,
      "metadata": {
        "id": "wsQwXLqx1i78"
      },
      "outputs": [],
      "source": [
        "y_pred = logreg.predict(test[independent_vars])"
      ]
    },
    {
      "cell_type": "code",
      "execution_count": 29,
      "metadata": {
        "colab": {
          "base_uri": "https://localhost:8080/"
        },
        "id": "4LTXDSpT1i79",
        "outputId": "2d6916fa-121e-46cb-9ea4-56a88ea15d20"
      },
      "outputs": [
        {
          "data": {
            "text/plain": [
              "0.500002881670609"
            ]
          },
          "execution_count": 29,
          "metadata": {},
          "output_type": "execute_result"
        }
      ],
      "source": [
        "roc_auc_score(test[\"Response\"], y_pred)"
      ]
    }
  ],
  "metadata": {
    "colab": {
      "provenance": [],
      "toc_visible": true
    },
    "kernelspec": {
      "display_name": "kaggle_env",
      "language": "python",
      "name": "python3"
    },
    "language_info": {
      "codemirror_mode": {
        "name": "ipython",
        "version": 3
      },
      "file_extension": ".py",
      "mimetype": "text/x-python",
      "name": "python",
      "nbconvert_exporter": "python",
      "pygments_lexer": "ipython3",
      "version": "3.12.2"
    }
  },
  "nbformat": 4,
  "nbformat_minor": 0
}
